{
 "cells": [
  {
   "cell_type": "markdown",
   "metadata": {},
   "source": [
    "## PI-3 Running SFINCS using the National Water Model 3.0 inputs\n",
    "\n",
    "Below is a notebook for running SFINCS using National Water Model inputs over a domain of interest\n",
    "\n",
    "Author: Tadd Bindas"
   ]
  },
  {
   "cell_type": "markdown",
   "metadata": {},
   "source": [
    "### Step 0: Import dependencies and create national water model data"
   ]
  },
  {
   "cell_type": "markdown",
   "metadata": {},
   "source": []
  }
 ],
 "metadata": {
  "language_info": {
   "name": "python"
  }
 },
 "nbformat": 4,
 "nbformat_minor": 2
}
