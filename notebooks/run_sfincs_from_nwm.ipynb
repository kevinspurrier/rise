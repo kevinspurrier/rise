{
 "cells": [
  {
   "cell_type": "markdown",
   "metadata": {},
   "source": [
    "# Run a SFINCS model"
   ]
  },
  {
   "attachments": {},
   "cell_type": "markdown",
   "metadata": {},
   "source": [
    "Taken from: https://github.com/Deltares/hydromt_sfincs/blob/efd7a7880083e48af6ef0d54f9ae3dc93f164396/examples/run_sfincs_model.ipynb\n",
    "\n",
    "This notebook demonstrates how to run and inspect a SFINCS model. The notebook does not contain the SFINCS code or executables to run the model with.\n",
    "Below there is explained where and how to get the SFINCS executable "
   ]
  },
  {
   "cell_type": "markdown",
   "metadata": {},
   "source": [
    "All lines in this notebook which start with `!` are executed from the command line. Within jupyter (except for jupyter lab) the logging messages are shown after completion."
   ]
  },
  {
   "cell_type": "markdown",
   "metadata": {},
   "source": [
    "### Connecting to the Docker Daemon"
   ]
  },
  {
   "attachments": {},
   "cell_type": "markdown",
   "metadata": {},
   "source": [
    "We are using the Docker-python SDK to connect/run docker images"
   ]
  },
  {
   "cell_type": "code",
   "execution_count": 1,
   "metadata": {},
   "outputs": [],
   "source": [
    "from pathlib import Path\n",
    "\n",
    "import docker\n",
    "\n",
    "client = docker.from_env()"
   ]
  },
  {
   "cell_type": "code",
   "execution_count": 2,
   "metadata": {},
   "outputs": [
    {
     "data": {
      "text/plain": [
       "<Image: 'deltares/sfincs-cpu:latest'>"
      ]
     },
     "execution_count": 2,
     "metadata": {},
     "output_type": "execute_result"
    }
   ],
   "source": [
    "image_name = \"deltares/sfincs-cpu:latest\"\n",
    "image = client.images.pull(image_name)\n",
    "image"
   ]
  },
  {
   "cell_type": "code",
   "execution_count": 3,
   "metadata": {},
   "outputs": [],
   "source": [
    "for container in client.containers.list():\n",
    "    container.stop()"
   ]
  },
  {
   "cell_type": "markdown",
   "metadata": {},
   "source": [
    "### Now let's try to run this image"
   ]
  },
  {
   "cell_type": "code",
   "execution_count": 4,
   "metadata": {},
   "outputs": [
    {
     "name": "stdout",
     "output_type": "stream",
     "text": [
      "b''\n",
      "b'----------- Welcome to SFINCS -----------'\n",
      "b''\n",
      "b'@@@@@  @@@@@@@ @@ @@  @@   @@@@   @@@@@'\n",
      "b'@@@ @@@ @@@@@@@ @@ @@@ @@ @@@@@@@ @@@ @@@'\n",
      "b'@@@     @@      @@ @@@ @@ @@   @@ @@@'\n",
      "b'@@@@@  @@@@@@  @@ @@@@@@ @@       @@@@@'\n",
      "b'@@@ @@      @@ @@ @@@ @@   @@     @@@'\n",
      "b'@@@ @@@ @@      @@ @@  @@  @@@@@@ @@@ @@@'\n",
      "b'@@@@@  @@      @@ @@   @   @@@@   @@@@@'\n",
      "b''\n",
      "b'..............'\n",
      "b'......:@@@@@@@@:......'\n",
      "b'..::::..@@........@@.:::::..'\n",
      "b'..:::::..@@..::..::..@@.::::::..'\n",
      "b'.::::::..@@............@@.:::::::.'\n",
      "b'.::::::..@@..............@@.:::::::.'\n",
      "b'.::::::::..@@............@@..::::::::.'\n",
      "b'.:::::::::...@@.@..@@..@.@@..::::::::::.'\n",
      "b'.:::::::::...:@@@..@@..@@@:..:::::::::..'\n",
      "b'............@@.@@..@@..@@.@@............'\n",
      "b'^^^~~^^~~^^@@..............@@^^^~^^^~~^^'\n",
      "b'.::::::::::@@..............@@.:::::::::.'\n",
      "b'.......:.@@.....@.....@....@@.:.......'\n",
      "b'.::....@@......@.@@@.@....@@.....::.'\n",
      "b'.:::~@@.:...:.@@...@@.:.:.@@~::::.'\n",
      "b'.::~@@@@@@@@@@.....@@@@@@@@@~::.'\n",
      "b'..:~~~~~~~:.......:~~~~~~~:..'\n",
      "b'......................'\n",
      "b'..............'\n",
      "b''\n",
      "b'-----------------------------------------'\n",
      "b''\n",
      "b'Build-Revision: $Rev: v2.1.1-Dollerup'\n",
      "b'Build-Date:     $Date: 2024-08-28'\n",
      "b''\n",
      "b'Reading input file ...'\n",
      "b'Info : Running SFINCS in subgrid mode ...'\n",
      "b'Turning on process: Viscosity'\n",
      "b'Advection scheme : First-order upwind'\n",
      "b'Reading meteo data ...'\n",
      "b'Reading FEWS compatible NetCDF type precipitation input ...'\n",
      "b'Info : Preparing SFINCS grid on regular mesh ...'\n",
      "b'Turning on process: Precipitation'\n",
      "b'Turning on flag: meteo3d'\n",
      "b'Reading index file : sfincs.ind ...'\n",
      "b'Reading mask file : sfincs.msk ...'\n",
      "b'Number of active z points    :        20359'\n",
      "b'Number of active u/v points  :        40364'\n",
      "b'Viscosity - nuvisc  =   0.500000000'\n",
      "b'Reading sub-grid netCDF file ...'\n",
      "b'Number of subgrid levels :           10'\n",
      "b'Turning on process: Infiltration (via Curve Number method - A)'\n",
      "b'Reading sfincs.scs'\n",
      "b'Reading water level boundaries ...'\n",
      "b'Reading discharges ...'\n",
      "b'Initializing output ...'\n",
      "b''\n",
      "b'---------- Starting simulation ----------'\n",
      "b'---- Using 4 of 4 available threads -----'\n",
      "b''\n",
      "b'0% complete,       - s remaining ...'\n",
      "b'5% complete,  1601.6 s remaining ...'\n",
      "b'10% complete,  1208.2 s remaining ...'\n",
      "b'15% complete,   830.7 s remaining ...'\n",
      "b'20% complete,   625.3 s remaining ...'\n",
      "b'25% complete,   512.4 s remaining ...'\n",
      "b'30% complete,   426.4 s remaining ...'\n",
      "b'35% complete,   360.9 s remaining ...'\n",
      "b'40% complete,   310.2 s remaining ...'\n",
      "b'45% complete,   267.5 s remaining ...'\n",
      "b'50% complete,   232.3 s remaining ...'\n",
      "b'55% complete,   201.1 s remaining ...'\n",
      "b'60% complete,   172.6 s remaining ...'\n",
      "b'65% complete,   146.9 s remaining ...'\n",
      "b'70% complete,   123.2 s remaining ...'\n",
      "b'75% complete,   100.3 s remaining ...'\n",
      "b'80% complete,    78.5 s remaining ...'\n",
      "b'85% complete,    57.8 s remaining ...'\n",
      "b'90% complete,    37.9 s remaining ...'\n",
      "b'95% complete,    18.7 s remaining ...'\n",
      "b'100% complete,     0.0 s remaining ...'\n",
      "b''\n",
      "b'---------- Simulation finished ----------'\n",
      "b''\n",
      "b'Total time             :    370.353'\n",
      "b'Total simulation time  :    370.282'\n",
      "b'Time in input          :      0.070'\n",
      "b'Time in boundaries     :      3.095 (  0.8%)'\n",
      "b'Time in discharges     :      0.027 (  0.0%)'\n",
      "b'Time in meteo fields   :      0.085 (  0.0%)'\n",
      "b'Time in meteo forcing  :     66.562 ( 18.0%)'\n",
      "b'Time in momentum       :    199.665 ( 53.9%)'\n",
      "b'Time in continuity     :     62.230 ( 16.8%)'\n",
      "b'Time in output         :      0.157 (  0.0%)'\n",
      "b''\n",
      "b'Average time step (s)  :      3.131'\n",
      "b''\n",
      "b'---------- Closing off SFINCS -----------'\n"
     ]
    }
   ],
   "source": [
    "data_dir = \"/home/tadd.bindas/github/rise/data/SFINCS/tmp_sfincs_compound\"\n",
    "volumes = {data_dir: {\"bind\": \"/data\", \"mode\": \"rw\"}}\n",
    "\n",
    "container = client.containers.run(\n",
    "    image_name,\n",
    "    volumes=volumes,\n",
    "    remove=True,\n",
    "    detach=True,\n",
    ")\n",
    "\n",
    "for line in container.logs(stream=True):\n",
    "    print(line.strip())"
   ]
  },
  {
   "attachments": {},
   "cell_type": "markdown",
   "metadata": {},
   "source": [
    "We see here the earlier inspected log-file *'sfincs_log.txt'*\n",
    "\n",
    "Do you additionally see the files *'sfincs_map.nc'* and *'sfincs_his.nc'* ?\n",
    "\n",
    "These are output files of SFINCS, containing the model results in the common NetCDF format."
   ]
  },
  {
   "attachments": {},
   "cell_type": "markdown",
   "metadata": {},
   "source": [
    "### Continue to postprocessing and visualization"
   ]
  },
  {
   "attachments": {},
   "cell_type": "markdown",
   "metadata": {},
   "source": [
    "You can now continue to the notebook(s):\n",
    "\n",
    "- [Example: Maximum water depth](sfincs_results_hmax.ipynb)\n",
    "- [Example: Animation](sfincs_results_animation.ipynb)"
   ]
  }
 ],
 "metadata": {
  "kernelspec": {
   "display_name": "Python 3 (ipykernel)",
   "language": "python",
   "name": "python3"
  },
  "language_info": {
   "codemirror_mode": {
    "name": "ipython",
    "version": 3
   },
   "file_extension": ".py",
   "mimetype": "text/x-python",
   "name": "python",
   "nbconvert_exporter": "python",
   "pygments_lexer": "ipython3",
   "version": "3.10.14"
  },
  "vscode": {
   "interpreter": {
    "hash": "279caf9d0aef916ca877f8986f7dcbece9b492e90eb95f7626b621f6217a2bb3"
   }
  }
 },
 "nbformat": 4,
 "nbformat_minor": 4
}
